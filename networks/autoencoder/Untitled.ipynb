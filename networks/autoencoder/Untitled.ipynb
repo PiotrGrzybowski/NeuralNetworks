{
 "cells": [
  {
   "cell_type": "code",
   "execution_count": null,
   "metadata": {},
   "outputs": [],
   "source": [
    "import pickle\n",
    "\n",
    "import matplotlib.pyplot as plt\n",
    "import numpy as np\n",
    "import sys\n",
    "sys.path.append(\"../\") # go to parent dir\n",
    "from autoencoder.mlp import Network\n",
    "\n",
    "test_data = np.load('test.npy')\n",
    "train_data = np.load('train.npy')"
   ]
  },
  {
   "cell_type": "code",
   "execution_count": null,
   "metadata": {},
   "outputs": [],
   "source": [
    "batch_size = 32\n",
    "learning_rate = 0.2\n",
    "l2 = 0.0\n",
    "epochs = 5\n",
    "hidden=100\n",
    "\n",
    "results = []\n",
    "for size in [1,2,4,5,8,10,16,20,32,40,60]:\n",
    "    print(\"Size = {}\".format(size * 1000))\n",
    "    mlp = Network(100)\n",
    "    mlp.drop = 0\n",
    "    train = train_data[:, :size * 1000]\n",
    "    mlp.train(train, learning_rate, epochs, batch_size, l2, test_data)\n",
    "    results.append(mlp)\n",
    "    \n",
    "    mlp.hidden_weights = np.random.randn(hidden, 784) / np.sqrt(784)\n",
    "    mlp.output_weights = np.random.randn(784, hidden) / np.sqrt(hidden)\n",
    "\n",
    "    mlp.hidden_bias = np.ones(shape=(hidden, 1))\n",
    "    mlp.output_bias = np.ones(shape=(784, 1))\n",
    "    \n",
    "    "
   ]
  },
  {
   "cell_type": "code",
   "execution_count": null,
   "metadata": {},
   "outputs": [],
   "source": []
  },
  {
   "cell_type": "code",
   "execution_count": null,
   "metadata": {
    "collapsed": true
   },
   "outputs": [],
   "source": []
  }
 ],
 "metadata": {
  "kernelspec": {
   "display_name": "tnsorflow",
   "language": "python",
   "name": "tnsorflow"
  },
  "language_info": {
   "codemirror_mode": {
    "name": "ipython",
    "version": 3
   },
   "file_extension": ".py",
   "mimetype": "text/x-python",
   "name": "python",
   "nbconvert_exporter": "python",
   "pygments_lexer": "ipython3",
   "version": "3.6.1"
  }
 },
 "nbformat": 4,
 "nbformat_minor": 2
}
